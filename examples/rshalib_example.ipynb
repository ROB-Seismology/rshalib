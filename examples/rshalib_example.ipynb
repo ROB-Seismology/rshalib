{
 "metadata": {
  "name": "rshalib_example"
 },
 "nbformat": 3,
 "nbformat_minor": 0,
 "worksheets": [
  {
   "cells": [
    {
     "cell_type": "heading",
     "level": 1,
     "metadata": {},
     "source": [
      "Building a simple PSHA model using rshalib"
     ]
    },
    {
     "cell_type": "markdown",
     "metadata": {},
     "source": [
      "This is a template for building a generic simple PSHA model (without logic tree)\n",
      "that can be run in OpenQuake, oq-hazardlib or CRISIS."
     ]
    },
    {
     "cell_type": "heading",
     "level": 2,
     "metadata": {},
     "source": [
      "0. Import modules"
     ]
    },
    {
     "cell_type": "code",
     "collapsed": false,
     "input": [
      "## Standard modules\n",
      "import os\n",
      "import datetime\n",
      "import numpy as np\n",
      "import pylab\n",
      "\n",
      "## Thirdparty (hazardlib)\n",
      "from openquake.hazardlib.imt import PGA, SA\n",
      "\n",
      "## ROB modules\n",
      "import eqcatalog.eqcatalog as eqcat\n",
      "import eqcatalog.seismodb as seismodb\n",
      "import hazard.rshalib as rshalib\n",
      "\n",
      "## Increase default plot size\n",
      "pylab.rcParams['figure.figsize'] = (8,8)"
     ],
     "language": "python",
     "metadata": {},
     "outputs": []
    },
    {
     "cell_type": "heading",
     "level": 2,
     "metadata": {},
     "source": [
      "1. Model parameters"
     ]
    },
    {
     "cell_type": "heading",
     "level": 3,
     "metadata": {},
     "source": [
      "1.1 Model name and folder names"
     ]
    },
    {
     "cell_type": "code",
     "collapsed": false,
     "input": [
      "### Model name\n",
      "psha_model_name = \"SHRE_NPP_example\"\n",
      "\n",
      "### Folder names\n",
      "psha_root_folder = r\"D:\\PSHA\\SHRE_NPP\\rshalib_demo\"\n",
      "psha_model_folder = os.path.join(psha_root_folder, psha_model_name)\n",
      "if not os.path.exists(psha_model_folder):\n",
      "\tos.mkdir(psha_model_folder)"
     ],
     "language": "python",
     "metadata": {},
     "outputs": []
    },
    {
     "cell_type": "heading",
     "level": 3,
     "metadata": {},
     "source": [
      "1.2 PSHA parameters"
     ]
    },
    {
     "cell_type": "code",
     "collapsed": false,
     "input": [
      "## Threshold magnitude and MFD bin width\n",
      "Mmin_mfd = 2.2\n",
      "Mmin = 4.0\n",
      "mfd_bin_width = 0.1\n",
      "\n",
      "## GMPE truncation level (in number of standard deviations)\n",
      "gmpe_truncation_level = 3\n",
      "\n",
      "## Discretization parameters (in km)\n",
      "rupture_mesh_spacing = 5.\n",
      "area_discretization = 10.\n",
      "integration_distance = 100.\n",
      "\n",
      "## Return periods and investigation time\n",
      "return_periods = [1E+3, 1E+4, 1E+5]\n",
      "investigation_time = 50."
     ],
     "language": "python",
     "metadata": {},
     "outputs": []
    },
    {
     "cell_type": "heading",
     "level": 3,
     "metadata": {},
     "source": [
      "1.3 Site specification"
     ]
    },
    {
     "cell_type": "code",
     "collapsed": false,
     "input": [
      "## Grid\n",
      "grid_outline = []\n",
      "#grid_outline = [(2.15, 49.15), (6.95, 51.95)]\n",
      "#grid_spacing = 0.1\n",
      "#grid_spacing = 1.0\n",
      "grid_spacing = '50km'\n",
      "\n",
      "## List of sites\n",
      "#sites = []\n",
      "sites = [rshalib.site.SHASite(4.259, 51.325, name='Doel')]\n",
      "\n",
      "## Site model including soil parameters\n",
      "vs30, vs30measured, z1pt0, z2pt5 = 800., True, 2., 1.\n",
      "ref_site_params = (vs30, vs30measured, z1pt0, z2pt5)\n",
      "site_model = None\n",
      "#site_model = create_site_model('test_site_model', [(3.71704, 51.43233)])"
     ],
     "language": "python",
     "metadata": {},
     "outputs": []
    },
    {
     "cell_type": "heading",
     "level": 3,
     "metadata": {},
     "source": [
      "1.4 Intensity measure type, spectral periods, and intensity levels"
     ]
    },
    {
     "cell_type": "code",
     "collapsed": false,
     "input": [
      "## Intensity measure type, spectral periods, and intensity levels\n",
      "#imt_periods = {'PGA': [0], 'SA': [0.5, 1.]}\n",
      "imt_periods = {'PGA': [0]}\n",
      "Imin = 1E-3\n",
      "Imax = 1.0\n",
      "num_intensities = 15"
     ],
     "language": "python",
     "metadata": {},
     "outputs": []
    },
    {
     "cell_type": "heading",
     "level": 2,
     "metadata": {},
     "source": [
      "2. Read and process seismic catalog"
     ]
    },
    {
     "cell_type": "heading",
     "level": 3,
     "metadata": {},
     "source": [
      "2.1 Catalog parameters"
     ]
    },
    {
     "cell_type": "code",
     "collapsed": false,
     "input": [
      "Mtype = \"MW\"\n",
      "Mrelation = {\"ML\": \"Ahorner1983\", \"MS\": \"Geller1976\"}\n",
      "completeness = eqcat.Completeness_MW_201303a\n",
      "region = (-1.25, 8.75, 49.15, 53.30)\n",
      "start_date = datetime.date(1350, 1, 1)\n",
      "end_date = datetime.date(2012, 12, 31)\n",
      "Mmax = 7.1"
     ],
     "language": "python",
     "metadata": {},
     "outputs": []
    },
    {
     "cell_type": "heading",
     "level": 3,
     "metadata": {},
     "source": [
      "2.2 Read raw catalog from database"
     ]
    },
    {
     "cell_type": "code",
     "collapsed": false,
     "input": [
      "raw_catalog = seismodb.query_ROB_LocalEQCatalog(region=region, Mmin=0.1,\n",
      "                                start_date=start_date, end_date=end_date)\n",
      "raw_catalog.plot_map()"
     ],
     "language": "python",
     "metadata": {},
     "outputs": []
    },
    {
     "cell_type": "heading",
     "level": 3,
     "metadata": {},
     "source": [
      "2.3 Decluster"
     ]
    },
    {
     "cell_type": "code",
     "collapsed": false,
     "input": [
      "method = \"Cluster\"\n",
      "window = \"Uhrhammer1986\"\n",
      "fa_ratio = 0.5\n",
      "dc_catalog = raw_catalog.subselect_declustering(method=method, window=window,\n",
      "                                    fa_ratio=fa_ratio, Mtype=Mtype, Mrelation=Mrelation)\n",
      "eqcat.plot_catalogs_map([raw_catalog, dc_catalog], edge_colors=['k', 'r'],\n",
      "                           labels=[\"Raw\", \"Declustered\"])"
     ],
     "language": "python",
     "metadata": {},
     "outputs": []
    },
    {
     "cell_type": "heading",
     "level": 3,
     "metadata": {},
     "source": [
      "2.4 Apply completeness constraint"
     ]
    },
    {
     "cell_type": "code",
     "collapsed": false,
     "input": [
      "cc_catalog = dc_catalog.subselect_completeness(Mtype=Mtype, Mrelation=Mrelation,\n",
      "                                    completeness=completeness)\n",
      "cc_catalog.plot_magnitude_time(Mtype=Mtype, Mrelation=Mrelation,\n",
      "                                    completeness=completeness)\n",
      "eqcat.plot_catalogs_map([dc_catalog, cc_catalog], edge_colors=['k', 'r'],\n",
      "                           labels=[\"Declustered\", \"Completeness-constrained\"])"
     ],
     "language": "python",
     "metadata": {},
     "outputs": []
    },
    {
     "cell_type": "heading",
     "level": 2,
     "metadata": {},
     "source": [
      "3. Construct source model"
     ]
    },
    {
     "cell_type": "code",
     "collapsed": false,
     "input": [
      "source_model_name = \"Seismotectonic\""
     ],
     "language": "python",
     "metadata": {},
     "outputs": []
    },
    {
     "cell_type": "heading",
     "level": 3,
     "metadata": {},
     "source": [
      "3.1 Construct nodal plane distribution"
     ]
    },
    {
     "cell_type": "code",
     "collapsed": false,
     "input": [
      "min_strike, max_strike, delta_strike = 0, 270, 90\n",
      "dip = 45.\n",
      "min_rake, max_rake, delta_rake = -90, 90, 90\n",
      "npd = rshalib.pmf.create_nodal_plane_distribution((min_strike, max_strike, delta_strike),\n",
      "                                                dip, (min_rake, max_rake, delta_rake))\n",
      "npd.print_distribution()"
     ],
     "language": "python",
     "metadata": {},
     "outputs": []
    },
    {
     "cell_type": "heading",
     "level": 3,
     "metadata": {},
     "source": [
      "3.2 Construct hyocentral depth distribution"
     ]
    },
    {
     "cell_type": "code",
     "collapsed": false,
     "input": [
      "hypo_depths, hypo_weights = rshalib.pmf.get_normal_distribution(5., 20., 4)\n",
      "hdd = rshalib.pmf.HypocentralDepthDistribution(hypo_depths, hypo_weights)\n",
      "hdd.print_distribution()"
     ],
     "language": "python",
     "metadata": {},
     "outputs": []
    },
    {
     "cell_type": "heading",
     "level": 3,
     "metadata": {},
     "source": [
      "3.3 Read source model from GIS table"
     ]
    },
    {
     "cell_type": "code",
     "collapsed": false,
     "input": [
      "source_model = rshalib.rob.create_rob_source_model(source_model_name, min_mag=Mmin,\n",
      "                mfd_bin_width=mfd_bin_width, rupture_mesh_spacing=rupture_mesh_spacing,\n",
      "                area_discretization=area_discretization, hypocentral_distribution=hdd,\n",
      "                nodal_plane_distribution=npd)"
     ],
     "language": "python",
     "metadata": {},
     "outputs": []
    },
    {
     "cell_type": "heading",
     "level": 3,
     "metadata": {},
     "source": [
      "3.4 Override tectonic region type for RVG"
     ]
    },
    {
     "cell_type": "code",
     "collapsed": false,
     "input": [
      "## Example of how parameters of individual sources can be overridden\n",
      "source = source_model[\"RVG\"]\n",
      "trt = 'Stable Shallow Crust'\n",
      "source.tectonic_region_type = trt"
     ],
     "language": "python",
     "metadata": {},
     "outputs": []
    },
    {
     "cell_type": "heading",
     "level": 2,
     "metadata": {},
     "source": [
      "4. Compute Magnitude-Frequency Distribution for each source"
     ]
    },
    {
     "cell_type": "heading",
     "level": 3,
     "metadata": {},
     "source": [
      "4.1 Split completeness-constrained catalog into subcatalogs corresponding to source zones"
     ]
    },
    {
     "cell_type": "code",
     "collapsed": false,
     "input": [
      "zone_catalogs = cc_catalog.split_into_zones(source_model_name)\n",
      "eqcat.plot_catalogs_map(zone_catalogs.values(), source_model=source_model_name, labels=[\"\"]*len(zone_catalogs), region=region)"
     ],
     "language": "python",
     "metadata": {},
     "outputs": []
    },
    {
     "cell_type": "heading",
     "level": 3,
     "metadata": {},
     "source": [
      "4.2 Compute MFD for each zone"
     ]
    },
    {
     "cell_type": "code",
     "collapsed": false,
     "input": [
      "for zone in source_model:\n",
      "    print zone.source_id\n",
      "    zone_catalog = zone_catalogs[zone.source_id]\n",
      "    try:\n",
      "        zone.mfd = zone_catalog.get_estimated_MFD(Mmin_mfd, Mmax, mfd_bin_width,\n",
      "            method=\"Weichert\", Mtype=Mtype, b_val=None, Mrelation=Mrelation,\n",
      "            completeness=completeness, verbose=False)\n",
      "    except:\n",
      "        pass\n",
      "    else:\n",
      "        zone.mfd.min_mag = Mmin\n",
      "        print \"a=%.3f b=%.3f\" % (zone.mfd.a_val, zone.mfd.b_val)\n",
      "zone_catalogs[\"ABM\"].plot_MFD(Mmin_mfd, Mmax, mfd_bin_width, method=\"Weichert\", Mtype=Mtype,\n",
      "                Mrelation=Mrelation, completeness=completeness, Freq_range=(1E-5, 10))"
     ],
     "language": "python",
     "metadata": {},
     "outputs": []
    },
    {
     "cell_type": "heading",
     "level": 3,
     "metadata": {},
     "source": [
      "4.3 Examine parameters of a particular area source"
     ]
    },
    {
     "cell_type": "code",
     "collapsed": false,
     "input": [
      "zone = source_model[\"ABM\"]\n",
      "print zone.name\n",
      "print \"Upper seismogenic depth: %.1f km\" % zone.upper_seismogenic_depth\n",
      "print \"Lower seismogenic depth: %.1f km\" % zone.lower_seismogenic_depth\n",
      "print \"Area discretization: %.1f km\" % zone.area_discretization\n",
      "print \"Rupture mesh spacing: %.1f km\" % zone.rupture_mesh_spacing\n",
      "print \"Rupture aspect ratio: %.1f\" % zone.rupture_aspect_ratio\n",
      "print \"Tectonic region type: %s\" % zone.tectonic_region_type\n",
      "print \"MFD a=%.3f b=%.2f\" % (zone.mfd.a_val, zone.mfd.b_val)\n",
      "zone.nodal_plane_distribution.print_distribution()\n",
      "zone.hypocenter_distribution.print_distribution()\n",
      "zone.mfd.plot(Mrange=(2,8), Freq_range=(1E-5, 10))"
     ],
     "language": "python",
     "metadata": {},
     "outputs": []
    },
    {
     "cell_type": "heading",
     "level": 3,
     "metadata": {},
     "source": [
      "4.4 Inspect source ruptures"
     ]
    },
    {
     "cell_type": "code",
     "collapsed": false,
     "input": [
      "mag = 5.55\n",
      "rake = -90\n",
      "zone.plot_rupture_bounds_3d(mag, rake=rake)"
     ],
     "language": "python",
     "metadata": {},
     "outputs": []
    },
    {
     "cell_type": "heading",
     "level": 3,
     "metadata": {},
     "source": [
      "5. Construct ground-motion model"
     ]
    },
    {
     "cell_type": "code",
     "collapsed": false,
     "input": [
      "ground_motion_model = rshalib.gsim.GroundMotionModel('Mixed',\n",
      "                                    {'Active Shallow Crust': 'AkkarBommer2010',\n",
      "                                       'Stable Shallow Crust': 'Campbell2003SHARE'})\n",
      "gmpe_name = ground_motion_model[\"Stable Shallow Crust\"]\n",
      "gmpe = getattr(rshalib.gsim, gmpe_name)()\n",
      "gmpe.plot_distance([6], 1, epsilon=1)\n",
      "gmpe.plot_spectrum([6], 1, 20, epsilon=1)"
     ],
     "language": "python",
     "metadata": {},
     "outputs": []
    },
    {
     "cell_type": "heading",
     "level": 2,
     "metadata": {},
     "source": [
      "6. Construct PSHA model"
     ]
    },
    {
     "cell_type": "markdown",
     "metadata": {},
     "source": [
      "We keep only the source \"Anglo-Brabant Massif\" to reduce computing time."
     ]
    },
    {
     "cell_type": "code",
     "collapsed": true,
     "input": [
      "source_model.sources = [abm]\n",
      "source_model.validate()"
     ],
     "language": "python",
     "metadata": {},
     "outputs": []
    },
    {
     "cell_type": "code",
     "collapsed": false,
     "input": [
      "def create_oq_params():\n",
      "    \"\"\"\"\n",
      "    Generate additional OpenQuake params not automatically handled by pshamodel\n",
      "    \"\"\"\n",
      "    OQparams = {}\n",
      "    OQparams['export_dir'] = 'output'\n",
      "    return OQparams\n",
      "\n",
      "\n",
      "def create_psha_model(engine=\"nhlib\"):\n",
      "\t\"\"\"\n",
      "\t:param engine:\n",
      "\t\tString, name of hazard engine: \"nhlib\", \"openquake\" or \"crisis\"\n",
      "\t\t(default: \"nhlib\")\n",
      "\t\"\"\"\n",
      "\toutput_folder = os.path.join(psha_model_folder, engine)\n",
      "\tif not os.path.exists(output_folder):\n",
      "\t\tos.mkdir(output_folder)\n",
      "\n",
      "\treturn rshalib.shamodel.PSHAModel(psha_model_name, source_model, ground_motion_model,\n",
      "\t\t\t\t\toutput_dir=output_folder,\n",
      "\t\t\t\t\tsites=sites,\n",
      "\t\t\t\t\tgrid_outline=grid_outline,\n",
      "\t\t\t\t\tgrid_spacing=grid_spacing,\n",
      "\t\t\t\t\tsoil_site_model=site_model,\n",
      "\t\t\t\t\timt_periods=imt_periods,\n",
      "\t\t\t\t\tmin_intensities=Imin,\n",
      "\t\t\t\t\tmax_intensities=Imax,\n",
      "\t\t\t\t\tnum_intensities=num_intensities,\n",
      "\t\t\t\t\treturn_periods=return_periods,\n",
      "\t\t\t\t\ttime_span=investigation_time,\n",
      "\t\t\t\t\ttruncation_level=gmpe_truncation_level,\n",
      "\t\t\t\t\tintegration_distance=integration_distance)"
     ],
     "language": "python",
     "metadata": {},
     "outputs": []
    },
    {
     "cell_type": "heading",
     "level": 2,
     "metadata": {},
     "source": [
      "7. Run PSHA model"
     ]
    },
    {
     "cell_type": "heading",
     "level": 3,
     "metadata": {},
     "source": [
      "7.1 hazardlib"
     ]
    },
    {
     "cell_type": "markdown",
     "metadata": {},
     "source": [
      "Computation takes about 5 minutes, so we can take a cup of coffee."
     ]
    },
    {
     "cell_type": "code",
     "collapsed": false,
     "input": [
      "psha_model = create_psha_model(\"nhlib\")\n",
      "shcfs = psha_model.run_nhlib_shcf(write=True)\n",
      "shcfs['PGA'].plot()"
     ],
     "language": "python",
     "metadata": {},
     "outputs": []
    },
    {
     "cell_type": "heading",
     "level": 3,
     "metadata": {},
     "source": [
      "7.2 OpenQuake"
     ]
    },
    {
     "cell_type": "code",
     "collapsed": false,
     "input": [
      "psha_model = create_psha_model(\"openquake\")\n",
      "OQparams = create_oq_params()\n",
      "psha_model.write_openquake(OQparams)"
     ],
     "language": "python",
     "metadata": {},
     "outputs": []
    },
    {
     "cell_type": "code",
     "collapsed": false,
     "input": [
      "from hazard.rshalib.openquake.IO import parse_hazard_curves, parse_hazard_map, rename_output_files\n",
      "xml_folder = os.path.join(psha_model_folder, \"openquake\", \"output\")\n",
      "#rename_output_files(xml_folder)\n",
      "gmpe_name = ground_motion_model[\"Active Shallow Crust\"]\n",
      "nrml_filespec = os.path.join(xml_folder, gmpe_name, \"PGA\", \"hazard-curves-32.xml\")\n",
      "hcf = parse_hazard_curves(nrml_filespec)\n",
      "hcf.plot()"
     ],
     "language": "python",
     "metadata": {},
     "outputs": []
    },
    {
     "cell_type": "heading",
     "level": 3,
     "metadata": {},
     "source": [
      "7.3 CRISIS"
     ]
    },
    {
     "cell_type": "code",
     "collapsed": false,
     "input": [
      "import hazard.rshalib.crisis.IO as IO\n",
      "psha_model = create_psha_model(\"crisis\")\n",
      "gra_filespec = psha_model.write_crisis(overwrite=True)"
     ],
     "language": "python",
     "metadata": {},
     "outputs": []
    },
    {
     "cell_type": "code",
     "collapsed": false,
     "input": [
      "shcf = IO.readCRISIS_GRA(os.path.splitext(gra_filespec)[0])\n",
      "shcf.plot()"
     ],
     "language": "python",
     "metadata": {},
     "outputs": []
    }
   ],
   "metadata": {}
  }
 ]
}