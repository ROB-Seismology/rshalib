{
 "metadata": {
  "name": "stochastic_demo"
 },
 "nbformat": 3,
 "nbformat_minor": 0,
 "worksheets": [
  {
   "cells": [
    {
     "cell_type": "heading",
     "level": 1,
     "metadata": {},
     "source": [
      "Building a stochastic event set with rshalib"
     ]
    },
    {
     "cell_type": "heading",
     "level": 2,
     "metadata": {},
     "source": [
      "0. Importing modules"
     ]
    },
    {
     "cell_type": "code",
     "collapsed": false,
     "input": [
      "from openquake.hazardlib.imt import PGA, SA\n",
      "import hazard.rshalib as rshalib\n",
      "reload(rshalib)"
     ],
     "language": "python",
     "metadata": {},
     "outputs": []
    },
    {
     "cell_type": "heading",
     "level": 2,
     "metadata": {},
     "source": [
      "1. Model parameters"
     ]
    },
    {
     "cell_type": "heading",
     "level": 3,
     "metadata": {},
     "source": [
      "1.1 Model name"
     ]
    },
    {
     "cell_type": "code",
     "collapsed": false,
     "input": [
      "dsha_model_name = \"ROB_stochastic_event_set_example\""
     ],
     "language": "python",
     "metadata": {},
     "outputs": []
    },
    {
     "cell_type": "heading",
     "level": 3,
     "metadata": {},
     "source": [
      "1.2 SHA parameters"
     ]
    },
    {
     "cell_type": "code",
     "collapsed": false,
     "input": [
      "## Threshold magnitude and MFD bin width\n",
      "Mmin = 4.5\n",
      "mfd_bin_width = 0.1\n",
      "\n",
      "## Time span for Poisson temporal occurrence model\n",
      "time_span = 15000.\n",
      "\n",
      "## Discretization parameters (in km)\n",
      "rupture_mesh_spacing = 2.5\n",
      "area_discretization = 10.\n",
      "integration_distance = 150."
     ],
     "language": "python",
     "metadata": {},
     "outputs": []
    },
    {
     "cell_type": "heading",
     "level": 3,
     "metadata": {},
     "source": [
      "1.3 Site specification"
     ]
    },
    {
     "cell_type": "code",
     "collapsed": false,
     "input": [
      "## Grid\n",
      "grid_outline = [(4., 50.), (7., 51.5)]\n",
      "grid_spacing = 0.05\n",
      "ref_soil_params = {\"vs30\": 800, \"vs30measured\": True, \"z1pt0\": 100., \"z2pt5\": 2., \"kappa\": None}"
     ],
     "language": "python",
     "metadata": {},
     "outputs": []
    },
    {
     "cell_type": "heading",
     "level": 3,
     "metadata": {},
     "source": [
      "1.4 Intensity measure type, spectral periods"
     ]
    },
    {
     "cell_type": "code",
     "collapsed": false,
     "input": [
      "#imt_periods = {'PGA': [0], 'SA': [0.5, 1.]}\n",
      "imt_periods = {'PGA': [0]}"
     ],
     "language": "python",
     "metadata": {},
     "outputs": []
    },
    {
     "cell_type": "heading",
     "level": 3,
     "metadata": {},
     "source": [
      "1.5 GMPE"
     ]
    },
    {
     "cell_type": "code",
     "collapsed": false,
     "input": [
      "#gmpe_name = \"FaccioliEtAl2010\"\n",
      "gmpe_name = \"AkkarEtAl2013\"\n",
      "\n",
      "## GMPE truncation level (in number of standard deviations)\n",
      "gmpe_truncation_level = 0"
     ],
     "language": "python",
     "metadata": {},
     "outputs": []
    },
    {
     "cell_type": "heading",
     "level": 2,
     "metadata": {},
     "source": [
      "2. Create source model"
     ]
    },
    {
     "cell_type": "code",
     "collapsed": false,
     "input": [
      "source_model_name = \"Seismotectonic_Hybrid\"\n",
      "source_model = rshalib.rob.create_rob_source_model(source_model_name, min_mag=Mmin,\n",
      "\t\t\t\t\t\t\t\t\t\t\t\t   mfd_bin_width=mfd_bin_width, rupture_mesh_spacing=rupture_mesh_spacing,\n",
      "\t\t\t\t\t\t\t\t\t\t\t\t   area_discretization=area_discretization, hypocentral_distribution=None,\n",
      "\t\t\t\t\t\t\t\t\t\t\t\t   nodal_plane_distribution=None)"
     ],
     "language": "python",
     "metadata": {},
     "outputs": []
    },
    {
     "cell_type": "code",
     "collapsed": false,
     "input": [
      "src = source_model[\"LIE\"]\n",
      "flt = source_model[\"GeHeF\"]"
     ],
     "language": "python",
     "metadata": {},
     "outputs": []
    },
    {
     "cell_type": "heading",
     "level": 2,
     "metadata": {},
     "source": [
      "3. Generate ruptures"
     ]
    },
    {
     "cell_type": "heading",
     "level": 3,
     "metadata": {},
     "source": [
      "3.1 From a stochastic event set"
     ]
    },
    {
     "cell_type": "code",
     "collapsed": false,
     "input": [
      "random_seed = 4\n",
      "np.random.seed(random_seed)"
     ],
     "language": "python",
     "metadata": {},
     "outputs": []
    },
    {
     "cell_type": "heading",
     "level": 4,
     "metadata": {},
     "source": [
      "3.1.1 Area source"
     ]
    },
    {
     "cell_type": "code",
     "collapsed": false,
     "input": [
      "ruptures = src.get_stochastic_event_set_Poisson(time_span)\n",
      "print len(ruptures)"
     ],
     "language": "python",
     "metadata": {},
     "outputs": []
    },
    {
     "cell_type": "code",
     "collapsed": false,
     "input": [
      "src.plot_rupture_bounds_3d(src_ruptures, fill=True)"
     ],
     "language": "python",
     "metadata": {},
     "outputs": []
    },
    {
     "cell_type": "heading",
     "level": 4,
     "metadata": {},
     "source": [
      "3.1.2 Fault source"
     ]
    },
    {
     "cell_type": "code",
     "collapsed": false,
     "input": [
      "ruptures = flt.get_stochastic_event_set_Poisson(time_span)\n",
      "print len(ruptures)"
     ],
     "language": "python",
     "metadata": {},
     "outputs": []
    },
    {
     "cell_type": "code",
     "collapsed": false,
     "input": [
      "flt.plot_rupture_bounds_3d(flt_ruptures, fill=True)"
     ],
     "language": "python",
     "metadata": {},
     "outputs": []
    },
    {
     "cell_type": "heading",
     "level": 3,
     "metadata": {},
     "source": [
      "3.2 From a characteristic fault rupture"
     ]
    },
    {
     "cell_type": "code",
     "collapsed": false,
     "input": [
      "charflt = flt.to_characteristic_source()"
     ],
     "language": "python",
     "metadata": {},
     "outputs": []
    },
    {
     "cell_type": "code",
     "collapsed": false,
     "input": [
      "rup = charflt.get_rupture(time_span)\n",
      "ruptures = [rup]"
     ],
     "language": "python",
     "metadata": {},
     "outputs": []
    },
    {
     "cell_type": "heading",
     "level": 3,
     "metadata": {},
     "source": [
      "3.3 From an earthquake catalog"
     ]
    },
    {
     "cell_type": "code",
     "collapsed": false,
     "input": [
      "from openquake.hazardlib.scalerel import PointMSR\n",
      "from hazard.psha.Projects.SHRE_NPP.catalog import cc_catalog as catalog\n",
      "from hazard.rshalib.source.rupture import Rupture\n",
      "\n",
      "strike, dip, rake, trt, rms, rar, usd, lsd, msr = 0., 45., 0., \"\", 1., 1., 0., 30., PointMSR()\n",
      "\n",
      "earthquakes = [(e.lon, e.lat, e.depth or 10., e.get_MW())for e in catalog]\n",
      "ruptures = [Rupture.from_hypocenter(lon, lat, depth, mag, strike, dip, rake, trt, rms, rar, usd, lsd, msr) for lon, lat, depth, mag in earthquakes]"
     ],
     "language": "python",
     "metadata": {},
     "outputs": []
    },
    {
     "cell_type": "heading",
     "level": 2,
     "metadata": {},
     "source": [
      "4. Construct DSHA model"
     ]
    },
    {
     "cell_type": "code",
     "collapsed": false,
     "input": [
      "dsha_model = rshalib.shamodel.DSHAModel(dsha_model_name, ruptures,\n",
      "\t\t\t\t\t\t\t\t\t\tgmpe_name, grid_outline=grid_outline, grid_spacing=grid_spacing,\n",
      "\t\t\t\t\t\t\t\t\t\tref_soil_params=ref_soil_params, imt_periods=imt_periods,\n",
      "\t\t\t\t\t\t\t\t\t\trealizations=1, correlation_model=None,\n",
      "\t\t\t\t\t\t\t\t\t\ttruncation_level=gmpe_truncation_level, integration_distance=integration_distance)"
     ],
     "language": "python",
     "metadata": {},
     "outputs": []
    },
    {
     "cell_type": "heading",
     "level": 2,
     "metadata": {},
     "source": [
      "5. Compute and plot ground-motion field"
     ]
    },
    {
     "cell_type": "code",
     "collapsed": false,
     "input": [
      "hazard_field_sets = dsha_model.run_hazardlib()"
     ],
     "language": "python",
     "metadata": {},
     "outputs": []
    },
    {
     "cell_type": "code",
     "collapsed": false,
     "input": [
      "hazard_field = hazard_field_sets['PGA'].getHazardMap(0)\n",
      "hazard_field.return_period = time_span\n",
      "region = (grid_outline[0][0], grid_outline[1][0], grid_outline[0][1], grid_outline[1][1])\n",
      "map = hazard_field.get_plot(region=region, contour_interval=0.05, source_model=source_model_name, title=dsha_model_name)\n",
      "map.plot()"
     ],
     "language": "python",
     "metadata": {},
     "outputs": []
    },
    {
     "cell_type": "code",
     "collapsed": false,
     "input": [],
     "language": "python",
     "metadata": {},
     "outputs": []
    }
   ],
   "metadata": {}
  }
 ]
}