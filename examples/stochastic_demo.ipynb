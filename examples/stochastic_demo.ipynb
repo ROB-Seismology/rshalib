{
 "metadata": {
  "name": "stochastic_demo"
 },
 "nbformat": 3,
 "nbformat_minor": 0,
 "worksheets": [
  {
   "cells": [
    {
     "cell_type": "heading",
     "level": 1,
     "metadata": {},
     "source": [
      "Building a stochastic event set with rshalib"
     ]
    },
    {
     "cell_type": "heading",
     "level": 2,
     "metadata": {},
     "source": [
      "0. Importing modules"
     ]
    },
    {
     "cell_type": "code",
     "collapsed": false,
     "input": [
      "from openquake.hazardlib.imt import PGA, SA\n",
      "import hazard.rshalib as rshalib"
     ],
     "language": "python",
     "metadata": {},
     "outputs": []
    },
    {
     "cell_type": "heading",
     "level": 2,
     "metadata": {},
     "source": [
      "1. Model parameters"
     ]
    },
    {
     "cell_type": "heading",
     "level": 3,
     "metadata": {},
     "source": [
      "1.1 Model name"
     ]
    },
    {
     "cell_type": "code",
     "collapsed": false,
     "input": [
      "dsha_model_name = \"ROB_stochastic_event_set_example\""
     ],
     "language": "python",
     "metadata": {},
     "outputs": []
    },
    {
     "cell_type": "heading",
     "level": 3,
     "metadata": {},
     "source": [
      "1.2 SHA parameters"
     ]
    },
    {
     "cell_type": "code",
     "collapsed": false,
     "input": [
      "## Threshold magnitude and MFD bin width\n",
      "Mmin = 4.5\n",
      "mfd_bin_width = 0.1\n",
      "\n",
      "## GMPE truncation level (in number of standard deviations)\n",
      "gmpe_truncation_level = 0\n",
      "\n",
      "## Time span for Poisson temporal occurrence model\n",
      "time_span = 15000.\n",
      "\n",
      "## Discretization parameters (in km)\n",
      "rupture_mesh_spacing = 5.\n",
      "area_discretization = 10.\n",
      "integration_distance = 150."
     ],
     "language": "python",
     "metadata": {},
     "outputs": []
    },
    {
     "cell_type": "heading",
     "level": 3,
     "metadata": {},
     "source": [
      "1.3 Site specification"
     ]
    },
    {
     "cell_type": "code",
     "collapsed": false,
     "input": [
      "## Grid\n",
      "grid_outline = [(2.15, 49.15), (6.95, 51.95)]\n",
      "grid_spacing = 0.25\n",
      "ref_soil_params = {\"vs30\": 800, \"vs30measured\": True, \"z1pt0\": 100., \"z2pt5\": 2., \"kappa\": None}"
     ],
     "language": "python",
     "metadata": {},
     "outputs": []
    },
    {
     "cell_type": "heading",
     "level": 3,
     "metadata": {},
     "source": [
      "1.4 Intensity measure type, spectral periods"
     ]
    },
    {
     "cell_type": "code",
     "collapsed": false,
     "input": [
      "#imt_periods = {'PGA': [0], 'SA': [0.5, 1.]}\n",
      "imt_periods = {'PGA': [0]}"
     ],
     "language": "python",
     "metadata": {},
     "outputs": []
    },
    {
     "cell_type": "heading",
     "level": 3,
     "metadata": {},
     "source": [
      "1.5 GMPE"
     ]
    },
    {
     "cell_type": "code",
     "collapsed": false,
     "input": [
      "gmpe_name = \"FaccioliEtAl2010\""
     ],
     "language": "python",
     "metadata": {},
     "outputs": []
    },
    {
     "cell_type": "heading",
     "level": 2,
     "metadata": {},
     "source": [
      "2. Create source model"
     ]
    },
    {
     "cell_type": "code",
     "collapsed": false,
     "input": [
      "source_model_name = \"Seismotectonic_Hybrid\"\n",
      "source_model = rshalib.rob.create_rob_source_model(source_model_name, min_mag=Mmin,\n",
      "\t\t\t\t\t\t\t\t\t\t\t\t   mfd_bin_width=mfd_bin_width, rupture_mesh_spacing=rupture_mesh_spacing,\n",
      "\t\t\t\t\t\t\t\t\t\t\t\t   area_discretization=area_discretization, hypocentral_distribution=None,\n",
      "\t\t\t\t\t\t\t\t\t\t\t\t   nodal_plane_distribution=None)"
     ],
     "language": "python",
     "metadata": {},
     "outputs": []
    },
    {
     "cell_type": "code",
     "collapsed": false,
     "input": [
      "src = source_model[\"LIE\"]\n",
      "flt = source_model[\"GeHeF\"]"
     ],
     "language": "python",
     "metadata": {},
     "outputs": []
    },
    {
     "cell_type": "heading",
     "level": 2,
     "metadata": {},
     "source": [
      "3. Generate stochastic event set"
     ]
    },
    {
     "cell_type": "code",
     "collapsed": false,
     "input": [
      "random_seed = 3\n",
      "np.random.seed(random_seed)"
     ],
     "language": "python",
     "metadata": {},
     "outputs": []
    },
    {
     "cell_type": "code",
     "collapsed": false,
     "input": [
      "src_ruptures = src.get_stochastic_event_set_Poisson(time_span)"
     ],
     "language": "python",
     "metadata": {},
     "outputs": []
    },
    {
     "cell_type": "code",
     "collapsed": false,
     "input": [
      "src.plot_rupture_bounds_3d(src_ruptures, fill=True)"
     ],
     "language": "python",
     "metadata": {},
     "outputs": []
    },
    {
     "cell_type": "code",
     "collapsed": false,
     "input": [
      "flt_ruptures = flt.get_stochastic_event_set_Poisson(time_span)"
     ],
     "language": "python",
     "metadata": {},
     "outputs": []
    },
    {
     "cell_type": "code",
     "collapsed": false,
     "input": [
      "flt.plot_rupture_bounds_3d(flt_ruptures, fill=True)"
     ],
     "language": "python",
     "metadata": {},
     "outputs": []
    },
    {
     "cell_type": "heading",
     "level": 2,
     "metadata": {},
     "source": [
      "4. Construct DSHA model"
     ]
    },
    {
     "cell_type": "code",
     "collapsed": false,
     "input": [
      "lons, lats, depths, mags = [], [], [], []\n",
      "dsha_model = rshalib.shamodel.DSHAModel(dsha_model_name, lons, lats, depths, mags,\n",
      "\t\t\t\t\t\t\t\t\t\tgmpe_name, grid_outline=grid_outline, grid_spacing=grid_spacing,\n",
      "\t\t\t\t\t\t\t\t\t\tref_soil_params=ref_soil_params, imts=imt_periods.keys(),\n",
      "\t\t\t\t\t\t\t\t\t\tperiods=imt_periods.values()[0], correlation_model=None,\n",
      "\t\t\t\t\t\t\t\t\t\ttruncation_level=gmpe_truncation_level, maximum_distance=integration_distance)\n",
      "#dsha_model.ruptures = src_ruptures\n",
      "dsha_model.ruptures = flt_ruptures"
     ],
     "language": "python",
     "metadata": {},
     "outputs": []
    },
    {
     "cell_type": "code",
     "collapsed": false,
     "input": [
      "hazard_map_sets = dsha_model.run_hazardlib()"
     ],
     "language": "python",
     "metadata": {},
     "outputs": []
    },
    {
     "cell_type": "code",
     "collapsed": false,
     "input": [
      "hazard_map = hazard_map_sets['PGA'].get_max_hazard_map()\n",
      "hazard_map.return_period = time_span\n",
      "hazard_map.plot(region=(4,7,50.0,51.5), source_model=source_model_name)"
     ],
     "language": "python",
     "metadata": {},
     "outputs": []
    }
   ],
   "metadata": {}
  }
 ]
}